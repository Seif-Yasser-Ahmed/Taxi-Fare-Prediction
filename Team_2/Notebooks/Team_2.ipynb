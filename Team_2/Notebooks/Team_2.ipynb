{
  "cells": [
    {
      "cell_type": "code",
      "execution_count": 1,
      "metadata": {
        "id": "wPrEBe1x_Qed"
      },
      "outputs": [
        {
          "name": "stderr",
          "output_type": "stream",
          "text": [
            "C:\\Users\\Seif Yasser\\AppData\\Local\\Temp\\ipykernel_7108\\195410532.py:1: DeprecationWarning: \n",
            "Pyarrow will become a required dependency of pandas in the next major release of pandas (pandas 3.0),\n",
            "(to allow more performant data types, such as the Arrow string type, and better interoperability with other libraries)\n",
            "but was not found to be installed on your system.\n",
            "If this would cause problems for you,\n",
            "please provide us feedback at https://github.com/pandas-dev/pandas/issues/54466\n",
            "        \n",
            "  import pandas as pd\n"
          ]
        }
      ],
      "source": [
        "import pandas as pd\n",
        "import numpy as np\n",
        "import matplotlib.pyplot as plt\n",
        "import seaborn as sns\n",
        "%matplotlib inline"
      ]
    },
    {
      "cell_type": "code",
      "execution_count": 4,
      "metadata": {
        "id": "znypDIdA_QNJ"
      },
      "outputs": [],
      "source": [
        "path=\"final_internship_data.csv\""
      ]
    },
    {
      "cell_type": "code",
      "execution_count": 5,
      "metadata": {
        "id": "Q290MZGyC-2Z"
      },
      "outputs": [],
      "source": [
        "data=pd.read_csv(path)"
      ]
    },
    {
      "cell_type": "code",
      "execution_count": 6,
      "metadata": {
        "id": "GRP0pvKkOkf5"
      },
      "outputs": [],
      "source": [
        "# Costing Features\n",
        "data=data.drop(['User ID', 'User Name', 'Driver Name'],axis=1)"
      ]
    },
    {
      "cell_type": "code",
      "execution_count": 7,
      "metadata": {
        "id": "OtTo_ZYrPksk"
      },
      "outputs": [],
      "source": [
        "data=data.drop(['key','pickup_datetime'],axis=1)"
      ]
    },
    {
      "cell_type": "code",
      "execution_count": 8,
      "metadata": {
        "colab": {
          "base_uri": "https://localhost:8080/"
        },
        "id": "-Aaqgq3EvtkT",
        "outputId": "8da92e53-2c2a-49a3-9564-32a9b67551da"
      },
      "outputs": [],
      "source": [
        "data = data[data['fare_amount'] > 0]"
      ]
    },
    {
      "cell_type": "code",
      "execution_count": 9,
      "metadata": {
        "id": "hohG5P4YfkDr"
      },
      "outputs": [],
      "source": [
        "data=data.dropna()"
      ]
    },
    {
      "cell_type": "code",
      "execution_count": 10,
      "metadata": {
        "id": "Poahpmi4wAVW"
      },
      "outputs": [],
      "source": [
        "#because it can't be calculating fare without passengers in the taxi\n",
        "data=(data[data['passenger_count']!=0])"
      ]
    },
    {
      "cell_type": "code",
      "execution_count": 11,
      "metadata": {
        "id": "ffLnp3ud5KpC"
      },
      "outputs": [],
      "source": [
        "data=data.reset_index(drop=True)"
      ]
    },
    {
      "cell_type": "code",
      "execution_count": 12,
      "metadata": {
        "id": "VD7Yv0ygEB5I"
      },
      "outputs": [],
      "source": [
        "from sklearn.model_selection import train_test_split\n",
        "from sklearn.preprocessing import OrdinalEncoder, MinMaxScaler"
      ]
    },
    {
      "cell_type": "code",
      "execution_count": null,
      "metadata": {
        "colab": {
          "base_uri": "https://localhost:8080/"
        },
        "id": "OE1U6WTZJeCZ",
        "outputId": "11f8eed5-844f-45fc-f29b-9dab56e8bd64"
      },
      "outputs": [
        {
          "name": "stdout",
          "output_type": "stream",
          "text": [
            "Index(['Car Condition', 'Weather', 'Traffic Condition', 'fare_amount',\n",
            "       'pickup_longitude', 'pickup_latitude', 'dropoff_longitude',\n",
            "       'dropoff_latitude', 'passenger_count', 'hour', 'day', 'month',\n",
            "       'weekday', 'year', 'jfk_dist', 'ewr_dist', 'lga_dist', 'sol_dist',\n",
            "       'nyc_dist', 'distance', 'bearing'],\n",
            "      dtype='object')\n"
          ]
        }
      ],
      "source": [
        "print(data.columns)"
      ]
    },
    {
      "cell_type": "code",
      "execution_count": 13,
      "metadata": {
        "id": "Y9yw4uv3v1I1"
      },
      "outputs": [
        {
          "name": "stderr",
          "output_type": "stream",
          "text": [
            "C:\\Users\\Seif Yasser\\AppData\\Local\\Temp\\ipykernel_7108\\3448981916.py:7: FutureWarning: Downcasting behavior in `replace` is deprecated and will be removed in a future version. To retain the old behavior, explicitly call `result.infer_objects(copy=False)`. To opt-in to the future behavior, set `pd.set_option('future.no_silent_downcasting', True)`\n",
            "  data.replace(col,inplace=True)\n"
          ]
        }
      ],
      "source": [
        "col={\n",
        "    'Bad': 0,\n",
        "    'Good': 1,\n",
        "    'Very Good': 2,\n",
        "    'Excellent': 3,\n",
        "}\n",
        "data.replace(col,inplace=True)"
      ]
    },
    {
      "cell_type": "code",
      "execution_count": 14,
      "metadata": {
        "id": "6cGOVc9aG1rz"
      },
      "outputs": [
        {
          "name": "stderr",
          "output_type": "stream",
          "text": [
            "C:\\Users\\Seif Yasser\\AppData\\Local\\Temp\\ipykernel_7108\\2425803721.py:8: FutureWarning: Downcasting behavior in `replace` is deprecated and will be removed in a future version. To retain the old behavior, explicitly call `result.infer_objects(copy=False)`. To opt-in to the future behavior, set `pd.set_option('future.no_silent_downcasting', True)`\n",
            "  data.replace(col,inplace=True)\n"
          ]
        }
      ],
      "source": [
        "col={\n",
        "    'sunny': 0,\n",
        "    'cloudy': 1,\n",
        "    'rainy': 2,\n",
        "    'stormy': 3,\n",
        "    'windy': 4\n",
        "}\n",
        "data.replace(col,inplace=True)"
      ]
    },
    {
      "cell_type": "code",
      "execution_count": 15,
      "metadata": {
        "id": "faFO8wrhI2O_"
      },
      "outputs": [],
      "source": [
        "data = pd.get_dummies(data, columns=['Traffic Condition'])"
      ]
    },
    {
      "cell_type": "code",
      "execution_count": 16,
      "metadata": {
        "id": "_QlTk2K8O4T6"
      },
      "outputs": [],
      "source": [
        "data['fare_amount'] = data['fare_amount'].round().astype(int)"
      ]
    },
    {
      "cell_type": "code",
      "execution_count": 17,
      "metadata": {
        "id": "TuQkW3AM4aKv"
      },
      "outputs": [],
      "source": [
        "for column in data.columns:\n",
        "  upp=data[column].mean()+3*data[column].std()\n",
        "  low=data[column].mean()-3*data[column].std()\n",
        "  data=data.loc[((data[column]<upp) &(data[column]>low))]"
      ]
    },
    {
      "cell_type": "code",
      "execution_count": 18,
      "metadata": {
        "id": "CS7N5c0HQru6"
      },
      "outputs": [],
      "source": [
        "from sklearn.feature_selection import SelectKBest, f_classif"
      ]
    },
    {
      "cell_type": "code",
      "execution_count": 19,
      "metadata": {
        "colab": {
          "base_uri": "https://localhost:8080/"
        },
        "id": "SThydP79QsnX",
        "outputId": "872943cf-847d-4df9-a835-4b8051e877a0"
      },
      "outputs": [
        {
          "name": "stdout",
          "output_type": "stream",
          "text": [
            "distance: 28417.56\n",
            "pickup_longitude: 1086.30\n",
            "dropoff_longitude: 966.28\n",
            "jfk_dist: 908.21\n",
            "ewr_dist: 784.29\n",
            "lga_dist: 782.11\n",
            "year: 544.57\n",
            "nyc_dist: 464.77\n",
            "sol_dist: 422.96\n",
            "dropoff_latitude: 188.39\n"
          ]
        }
      ],
      "source": [
        "features = data.drop([\"fare_amount\"], axis=1)\n",
        "target = data[\"fare_amount\"]\n",
        "\n",
        "k_best = SelectKBest(score_func=f_classif, k=10)\n",
        "\n",
        "X = k_best.fit_transform(features, target)\n",
        "y = target\n",
        "\n",
        "# Get the indices of the selected features\n",
        "selected_features_indices = k_best.get_support(indices=True)\n",
        "\n",
        "# Get the scores associated with each feature\n",
        "feature_scores = k_best.scores_\n",
        "\n",
        "# Create a list of tuples containing feature names and scores\n",
        "feature_info = list(zip(features.columns, feature_scores))\n",
        "\n",
        "# Sort the feature info in descending order based on scores\n",
        "sorted_feature_info = sorted(feature_info, key=lambda x: x[1], reverse=True)\n",
        "\n",
        "for feature_name, feature_score in sorted_feature_info[:10]:\n",
        "    print(f\"{feature_name}: {feature_score:.2f}\")"
      ]
    },
    {
      "cell_type": "code",
      "execution_count": 20,
      "metadata": {
        "colab": {
          "base_uri": "https://localhost:8080/"
        },
        "id": "bQc2T5Ij1R6b",
        "outputId": "bee2d8a9-308d-44a8-c73e-c62495c9eb89"
      },
      "outputs": [
        {
          "name": "stdout",
          "output_type": "stream",
          "text": [
            "Original data:\n",
            "        Car Condition  Weather  fare_amount  pickup_longitude  \\\n",
            "1                   3        1           17         -1.291824   \n",
            "2                   0        3            6         -1.291242   \n",
            "3                   2        3            8         -1.291319   \n",
            "4                   0        3            5         -1.290987   \n",
            "5                   3        0           12         -1.291560   \n",
            "...               ...      ...          ...               ...   \n",
            "498163              2        4           13         -1.291337   \n",
            "498164              0        2            7         -1.291173   \n",
            "498165              2        2           14         -1.291595   \n",
            "498166              0        2           25         -1.291262   \n",
            "498168              2        0            5         -1.291312   \n",
            "\n",
            "        pickup_latitude  dropoff_longitude  dropoff_latitude  passenger_count  \\\n",
            "1              0.710546          -1.291182          0.711780                1   \n",
            "2              0.711418          -1.291391          0.711231                2   \n",
            "3              0.710927          -1.291396          0.711363                1   \n",
            "4              0.711536          -1.290787          0.711811                1   \n",
            "5              0.710901          -1.291071          0.711365                1   \n",
            "...                 ...                ...               ...              ...   \n",
            "498163         0.711193          -1.291321          0.711028                5   \n",
            "498164         0.711514          -1.290951          0.711371                1   \n",
            "498165         0.710670          -1.291708          0.710540                1   \n",
            "498166         0.710796          -1.289737          0.710366                1   \n",
            "498168         0.710736          -1.291243          0.710582                1   \n",
            "\n",
            "        hour  day  ...   jfk_dist   ewr_dist   lga_dist   sol_dist   nyc_dist  \\\n",
            "1         16    5  ...  44.667679  31.832358  23.130775  15.125872   8.755732   \n",
            "2          0   18  ...  43.597686  33.712082  19.865289  17.722624   9.847344   \n",
            "3          4   21  ...  42.642965  32.556289  21.063132  15.738963   7.703421   \n",
            "4          7    9  ...  43.329953  39.406828  15.219339  23.732406  15.600745   \n",
            "5          9    6  ...  42.335622  32.824930  20.648176  15.741133   7.649541   \n",
            "...      ...  ...  ...        ...        ...        ...        ...        ...   \n",
            "498163    22   24  ...  42.123722  32.557909  20.805410  15.446574   7.285943   \n",
            "498164    18    7  ...  42.565403  36.580043  17.157511  20.401068  12.280187   \n",
            "498165    12   13  ...  41.814877  27.833416  26.463167   8.596656   0.994796   \n",
            "498166     0   25  ...  31.780108  38.960930  19.708214  19.066488  11.663395   \n",
            "498168    23   12  ...  38.822968  31.517592  23.087427  11.950577   3.873636   \n",
            "\n",
            "        distance   bearing  Traffic Condition_Congested Traffic  \\\n",
            "1       8.450134 -0.375217                                False   \n",
            "2       1.389525  2.599961                                 True   \n",
            "3       2.799270  0.133905                                False   \n",
            "4       1.999157 -0.502703                                 True   \n",
            "5       3.787239 -0.674251                                 True   \n",
            "...          ...       ...                                  ...   \n",
            "498163  1.055295 -3.067213                                 True   \n",
            "498164  1.404709 -2.275706                                False   \n",
            "498165  0.994184  2.556931                                False   \n",
            "498166  7.859324 -1.926251                                False   \n",
            "498168  1.040272 -2.813690                                False   \n",
            "\n",
            "        Traffic Condition_Dense Traffic  Traffic Condition_Flow Traffic  \n",
            "1                                 False                            True  \n",
            "2                                 False                           False  \n",
            "3                                 False                            True  \n",
            "4                                 False                           False  \n",
            "5                                 False                           False  \n",
            "...                                 ...                             ...  \n",
            "498163                            False                           False  \n",
            "498164                             True                           False  \n",
            "498165                            False                            True  \n",
            "498166                            False                            True  \n",
            "498168                            False                            True  \n",
            "\n",
            "[442708 rows x 23 columns]\n",
            "\n",
            "Normalized data:\n",
            "[[1.         0.25       0.41463415 ... 0.         0.         1.        ]\n",
            " [0.         0.75       0.14634146 ... 1.         0.         0.        ]\n",
            " [0.66666667 0.75       0.19512195 ... 0.         0.         1.        ]\n",
            " ...\n",
            " [0.66666667 0.5        0.34146341 ... 0.         0.         1.        ]\n",
            " [0.         0.5        0.6097561  ... 0.         0.         1.        ]\n",
            " [0.66666667 0.         0.12195122 ... 0.         0.         1.        ]]\n"
          ]
        }
      ],
      "source": [
        "from sklearn.preprocessing import MinMaxScaler\n",
        "scaler = MinMaxScaler()\n",
        "\n",
        "print(\"Original data:\")\n",
        "print(data)\n",
        "\n",
        "# Fit scaler to the data and transform the data\n",
        "data = scaler.fit_transform(data)\n",
        "\n",
        "print(\"\\nNormalized data:\")\n",
        "print(data)"
      ]
    },
    {
      "cell_type": "code",
      "execution_count": 21,
      "metadata": {
        "colab": {
          "base_uri": "https://localhost:8080/"
        },
        "id": "ghLCf4PZUsiM",
        "outputId": "114ebd25-a584-444a-d75b-08353f59a774"
      },
      "outputs": [],
      "source": [
        "x_train, x_test, y_train, y_test = train_test_split(X, target, test_size=0.2, random_state=42)"
      ]
    },
    {
      "cell_type": "code",
      "execution_count": 22,
      "metadata": {
        "id": "h1jv3Dd5c9kM"
      },
      "outputs": [],
      "source": [
        "from sklearn.preprocessing import PolynomialFeatures\n",
        "from sklearn.linear_model import LinearRegression\n",
        "from sklearn.metrics import mean_squared_error, r2_score\n",
        "from sklearn.linear_model import Ridge\n",
        "from sklearn.linear_model import RidgeCV\n",
        "from sklearn.model_selection import RepeatedKFold\n",
        "import math\n",
        "from math import sqrt\n",
        "from numpy import absolute\n",
        "from numpy import mean\n",
        "from numpy import std"
      ]
    },
    {
      "cell_type": "code",
      "execution_count": 23,
      "metadata": {
        "id": "SSNfng7heZ96"
      },
      "outputs": [
        {
          "name": "stderr",
          "output_type": "stream",
          "text": [
            "c:\\Users\\Seif Yasser\\AppData\\Local\\Programs\\Python\\Python312\\Lib\\site-packages\\sklearn\\metrics\\_regression.py:483: FutureWarning: 'squared' is deprecated in version 1.4 and will be removed in 1.6. To calculate the root mean squared error, use the function'root_mean_squared_error'.\n",
            "  warnings.warn(\n"
          ]
        }
      ],
      "source": [
        "import matplotlib.pyplot as plt\n",
        "\n",
        "poly = PolynomialFeatures(degree=3)\n",
        "x_train = poly.fit_transform(x_train)\n",
        "est_poly = LinearRegression()\n",
        "est_poly.fit(x_train,y_train)\n",
        "y_train_predict = est_poly.predict(x_train)\n",
        "RMSE_train = mean_squared_error(y_train, y_train_predict, squared=False)\n",
        "X_test_ = poly.fit_transform(x_test)\n",
        "y_test_predict = est_poly.predict(X_test_)\n"
      ]
    },
    {
      "cell_type": "code",
      "execution_count": 24,
      "metadata": {},
      "outputs": [],
      "source": [
        "from joblib import dump"
      ]
    },
    {
      "cell_type": "code",
      "execution_count": 26,
      "metadata": {},
      "outputs": [],
      "source": [
        "dump=(est_poly,'savedModels/model.joblib')"
      ]
    },
    {
      "cell_type": "code",
      "execution_count": null,
      "metadata": {},
      "outputs": [],
      "source": []
    }
  ],
  "metadata": {
    "colab": {
      "collapsed_sections": [
        "MkNgNDhQ_Qec",
        "Ta1t7gue_Qef",
        "ICLrDKT7_Qef",
        "7KYfzfSHOfNa",
        "62cta2N_PUSr",
        "SlwLbBoeQQWy",
        "dGlDg6SovMOT",
        "CVlapaEi_Qef",
        "5jFM2gBPwmKQ",
        "_IQWMGEq-McT",
        "PBVsUnaJ_Qef",
        "Xklfo21gyfb_",
        "zu6rzh5-wvFG",
        "jdJRo1F6QL-l",
        "8BmfxAY61SeV",
        "grOmoaAJUFRF",
        "X-B5pirXYOxP"
      ],
      "provenance": []
    },
    "kernelspec": {
      "display_name": "Python 3",
      "language": "python",
      "name": "python3"
    },
    "language_info": {
      "codemirror_mode": {
        "name": "ipython",
        "version": 3
      },
      "file_extension": ".py",
      "mimetype": "text/x-python",
      "name": "python",
      "nbconvert_exporter": "python",
      "pygments_lexer": "ipython3",
      "version": "3.12.2"
    }
  },
  "nbformat": 4,
  "nbformat_minor": 0
}
